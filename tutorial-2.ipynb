{
 "cells": [
  {
   "cell_type": "markdown",
   "metadata": {},
   "source": [
    "# sat-stac tutorial\n",
    "\n",
    "This notebook contains examples of using satstac to work with STAC catalogs.\n",
    "\n",
    "**Table of contents**\n",
    "\n",
    "- <a href=#existing>Working with existing catalogs</a>\n",
    "- <a href=#create>Creating new catalogs</a>\n",
    "    - <a href=\"#addcat\">Adding catalogs to catalogs</a>\n",
    "    - <a href=\"#addcol\">Adding collections to catalogs</a>\n",
    "    - <a href=\"#additem\">Adding items to collections</a>\n",
    "- <a href=#views>Views (sub-catalogs)</a>\n",
    "\n",
    "\n",
    "The examples here use the [test catalog in the sat-stac repo](https://github.com/developmentseed/sat-stac/tree/master/test/catalog). The directory structure of the test catalog looks like the following, where the catalog.json files under the landsat-8-l1 and sentinel-2-l1c are `Collections`, the rest of the catalog.json files are simple `Catalogs`, and the item.json files are `Items`.\n",
    "\n",
    "**Test Catalog structure:**\n",
    "\n",
    "```\n",
    "catalog\n",
    "├── catalog.json\n",
    "└── eo\n",
    "    ├── catalog.json\n",
    "    ├── landsat-8-l1\n",
    "    │   ├── catalog.json\n",
    "    │   └── item.json\n",
    "    └── sentinel-2-l1c\n",
    "        ├── catalog.json\n",
    "        └── sentinel-2a\n",
    "            ├── catalog.json\n",
    "            └── item.json\n",
    "```\n",
    "\n",
    "\n",
    "## STAC models\n",
    "\n",
    "The main STAC classes: Catalog, Collection, and Item, can be be opened directly from JSON files or they can created from JSON-serializable dictionaries. Opening from a file has the advantage of automatically being able to link to other STAC files, such as a collection or a parent catalog.\n",
    "\n",
    "The Python classes correspond to the different STAC constructs, with some additional classes due to implementation.\n",
    "\n",
    "- **Thing**: A Thing is not a STAC object, it is a low-level parent class that is used by Catalog, Collection, and Item and includes the attributes they all have in common (read and save JSON, get links).\n",
    "- **Catalog**: A catalog is the simplest STAC object, containing an id, a description, the STAC version, and a list of links.\n",
    "- **Collection**: A Collection is a STAC catalog with some additional fields that describe a group of data, such as the provider, license, along with temporal and spatial extent.\n",
    "- **Item**: The Item class implements the STAC Item, and has several convenience functions such as retrieving the collection, getting assets by common band name (if using the EO Extension)\n",
    "- **Items**: The Items class does not correspond to a STAC object. It is a FeatureCollection of `Item`s, possibly from multiple collections. It is used to save and load sets of `Item`s as a FeatureCollection file, along with convenicen functions for extracting info across the set."
   ]
  },
  {
   "cell_type": "code",
   "execution_count": null,
   "metadata": {},
   "outputs": [],
   "source": []
  }
 ],
 "metadata": {
  "kernelspec": {
   "display_name": "Python3 sat-utils",
   "language": "python",
   "name": "testenv"
  },
  "language_info": {
   "codemirror_mode": {
    "name": "ipython",
    "version": 3
   },
   "file_extension": ".py",
   "mimetype": "text/x-python",
   "name": "python",
   "nbconvert_exporter": "python",
   "pygments_lexer": "ipython3",
   "version": "3.6.1"
  }
 },
 "nbformat": 4,
 "nbformat_minor": 2
}
