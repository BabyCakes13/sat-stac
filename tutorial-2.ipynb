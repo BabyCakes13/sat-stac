{
 "cells": [
  {
   "cell_type": "markdown",
   "metadata": {},
   "source": [
    "# sat-stac tutorial: STAC Classes\n",
    "\n",
    "This notebook contains examples of using satstac to work with STAC catalogs. The examples use the [Landsat STAC Catalog](https://landsat-stac.s3.amazonaws.com/catalog.json)\n",
    "\n",
    "\n",
    "## STAC classes\n",
    "\n",
    "The main STAC classes: Catalog, Collection, and Item model the equivalent entities from the STAC spec. They can be opened directly from JSON files or created from JSON-serializable dictionaries.\n",
    "\n",
    "The Python classes correspond to the different STAC entities, with some additional classes due to implementation.\n",
    "\n",
    "- **Thing**: A Thing is not a STAC entity, it is a low-level parent class that is used by Catalog, Collection, and Item and includes the attributes they all have in common (read and save JSON, get links).\n",
    "- **Catalog**: A catalog is the simplest STAC object, containing an id, a description, the STAC version, and a list of links.\n",
    "- **Collection**: A Collection is a STAC catalog with some additional fields that describe a group of data, such as the provider, license, along with temporal and spatial extent.\n",
    "- **Item**: The Item class implements the STAC Item, and has several convenience functions such as retrieving the collection, getting assets by common band name (if using the EO Extension)\n",
    "- **Items**: The Items class does not correspond to a STAC object. It is a FeatureCollection of `Item`s, possibly from multiple collections. It is used to save and load sets of `Item`s as a FeatureCollection file, along with convenience functions for extracting info across the set."
   ]
  },
  {
   "cell_type": "markdown",
   "metadata": {},
   "source": [
    "## STAC entities\n",
    "\n",
    "Every STAC class has an `open` function to open a file, either local or from a remote URL. Every entity has links which are used to traverse the catalog (open up parent catalogs, child items, etc.), see Tutorial-1 for more info on traversing catalogs."
   ]
  },
  {
   "cell_type": "code",
   "execution_count": 1,
   "metadata": {},
   "outputs": [
    {
     "name": "stdout",
     "output_type": "stream",
     "text": [
      "landsat-stac https://landsat-stac.s3.amazonaws.com/catalog.json\n",
      "landsat-8-l1 https://landsat-stac.s3.amazonaws.com/landsat-8-l1/catalog.json\n",
      "LC81111112018334LGN00 https://landsat-stac.s3.amazonaws.com/landsat-8-l1/111/111/2018-11-30/LC81111112018334LGN00.json\n"
     ]
    }
   ],
   "source": [
    "from satstac import Catalog, Collection, Item\n",
    "\n",
    "cat = Catalog.open('https://landsat-stac.s3.amazonaws.com/catalog.json')\n",
    "print(cat, cat.filename)\n",
    "\n",
    "col = Collection.open('https://landsat-stac.s3.amazonaws.com/landsat-8-l1/catalog.json')\n",
    "print(col, col.filename)\n",
    "\n",
    "item = Item.open('https://landsat-stac.s3.amazonaws.com/landsat-8-l1/111/111/2018-11-30/LC81111112018334LGN00.json')\n",
    "print(item, item.filename)"
   ]
  },
  {
   "cell_type": "markdown",
   "metadata": {},
   "source": [
    "### Catalog\n",
    "\n",
    "The Catalog class has additional attributes that correspond to fields in the STAC spec for Catalogs."
   ]
  },
  {
   "cell_type": "code",
   "execution_count": 2,
   "metadata": {},
   "outputs": [
    {
     "name": "stdout",
     "output_type": "stream",
     "text": [
      "Description: STAC for Landsat data\n",
      "STAC Version: 0.6.0\n"
     ]
    }
   ],
   "source": [
    "cat = Catalog.open('https://landsat-stac.s3.amazonaws.com/catalog.json')\n",
    "print('Description:', cat.description)\n",
    "print('STAC Version:', cat.stac_version)"
   ]
  },
  {
   "cell_type": "markdown",
   "metadata": {},
   "source": [
    "### Collection\n",
    "\n",
    "The Collection class has properties on top of what Catalog (Collections are also Catalogs) provides."
   ]
  },
  {
   "cell_type": "code",
   "execution_count": 3,
   "metadata": {},
   "outputs": [
    {
     "name": "stdout",
     "output_type": "stream",
     "text": [
      "Title: Landsat 8 L1\n",
      "Collection Version: 0.1.0\n",
      "Keywords:  ['landsat', 'earth observation', 'usgs']\n",
      "License: PDDL-1.0\n",
      "Providers: [{'name': 'USGS', 'roles': ['producer'], 'url': 'https://landsat.usgs.gov/'}, {'name': 'Planet Labs', 'roles': ['processor'], 'url': 'https://github.com/landsat-pds/landsat_ingestor'}, {'name': 'AWS', 'roles': ['host'], 'url': 'https://landsatonaws.com/'}, {'name': 'Development Seed', 'roles': ['processor'], 'url': 'https://github.com/sat-utils/sat-api'}]\n",
      "Extent {'spatial': [-180, -90, 180, 90], 'temporal': ['2013-06-01', None]}\n"
     ]
    }
   ],
   "source": [
    "print('Title:', col.title)\n",
    "print('Collection Version:', col.version)\n",
    "print('Keywords: ', col.keywords)\n",
    "print('License:', col.license)\n",
    "print('Providers:', col.providers)\n",
    "print('Extent', col.extent)"
   ]
  },
  {
   "cell_type": "markdown",
   "metadata": {},
   "source": [
    "In addition, Collections may have properties, a dictionary of fields that are shared among all Items that are part of the Collection. The property key can be provided directly as an index to the Collection object."
   ]
  },
  {
   "cell_type": "code",
   "execution_count": 4,
   "metadata": {},
   "outputs": [
    {
     "name": "stdout",
     "output_type": "stream",
     "text": [
      "collection: landsat-8-l1\n",
      "eo:gsd: 15\n",
      "eo:platform: landsat-8\n",
      "eo:instrument: OLI_TIRS\n",
      "eo:off_nadir: 0\n",
      "eo:bands: [{'id': 'B1', 'common_name': 'coastal', 'gsd': 30, 'center_wavelength': 0.44, 'full_width_half_max': 0.02}, {'id': 'B2', 'common_name': 'blue', 'gsd': 30, 'center_wavelength': 0.48, 'full_width_half_max': 0.06}, {'id': 'B3', 'common_name': 'green', 'gsd': 30, 'center_wavelength': 0.56, 'full_width_half_max': 0.06}, {'id': 'B4', 'common_name': 'red', 'gsd': 30, 'center_wavelength': 0.65, 'full_width_half_max': 0.04}, {'id': 'B5', 'common_name': 'nir', 'gsd': 30, 'center_wavelength': 0.86, 'full_width_half_max': 0.03}, {'id': 'B6', 'common_name': 'swir16', 'gsd': 30, 'center_wavelength': 1.6, 'full_width_half_max': 0.08}, {'id': 'B7', 'common_name': 'swir22', 'gsd': 30, 'center_wavelength': 2.2, 'full_width_half_max': 0.2}, {'id': 'B8', 'common_name': 'pan', 'gsd': 15, 'center_wavelength': 0.59, 'full_width_half_max': 0.18}, {'id': 'B9', 'common_name': 'cirrus', 'gsd': 30, 'center_wavelength': 1.37, 'full_width_half_max': 0.02}, {'id': 'B10', 'common_name': 'lwir11', 'gsd': 100, 'center_wavelength': 10.9, 'full_width_half_max': 0.8}, {'id': 'B11', 'common_name': 'lwir12', 'gsd': 100, 'center_wavelength': 12, 'full_width_half_max': 1}]\n"
     ]
    }
   ],
   "source": [
    "for key in col.properties:\n",
    "    print('%s: %s' % (key, col[key]))"
   ]
  },
  {
   "cell_type": "markdown",
   "metadata": {},
   "source": [
    "### Item\n",
    "\n",
    "Items have additional attributes representing the STAC fields of the same names."
   ]
  },
  {
   "cell_type": "code",
   "execution_count": 5,
   "metadata": {},
   "outputs": [
    {
     "name": "stdout",
     "output_type": "stream",
     "text": [
      "[89.8765, -73.45899, 98.35741, -70.88738]\n",
      "{'type': 'Polygon', 'coordinates': [[[89.8765, -73.45899], [89.89249, -71.03905], [97.28782, -70.88738], [98.35741, -73.28388], [89.8765, -73.45899]]]}\n",
      "{'index': {'type': 'text/html', 'title': 'HTML index page', 'href': 'https://s3-us-west-2.amazonaws.com/landsat-pds/c1/L8/111/111/LC08_L1GT_111111_20181130_20181130_01_RT/index.html'}, 'thumbnail': {'title': 'Thumbnail image', 'type': 'image/jpeg', 'href': 'https://s3-us-west-2.amazonaws.com/landsat-pds/c1/L8/111/111/LC08_L1GT_111111_20181130_20181130_01_RT/LC08_L1GT_111111_20181130_20181130_01_RT_thumb_large.jpg'}, 'B1': {'type': 'image/x.geotiff', 'eo:bands': [0], 'title': 'Band 1 (coastal)', 'href': 'https://s3-us-west-2.amazonaws.com/landsat-pds/c1/L8/111/111/LC08_L1GT_111111_20181130_20181130_01_RT/LC08_L1GT_111111_20181130_20181130_01_RT_B1.TIF'}, 'B2': {'type': 'image/x.geotiff', 'eo:bands': [1], 'title': 'Band 2 (blue)', 'href': 'https://s3-us-west-2.amazonaws.com/landsat-pds/c1/L8/111/111/LC08_L1GT_111111_20181130_20181130_01_RT/LC08_L1GT_111111_20181130_20181130_01_RT_B2.TIF'}, 'B3': {'type': 'image/x.geotiff', 'eo:bands': [2], 'title': 'Band 3 (green)', 'href': 'https://s3-us-west-2.amazonaws.com/landsat-pds/c1/L8/111/111/LC08_L1GT_111111_20181130_20181130_01_RT/LC08_L1GT_111111_20181130_20181130_01_RT_B3.TIF'}, 'B4': {'type': 'image/x.geotiff', 'eo:bands': [3], 'title': 'Band 4 (red)', 'href': 'https://s3-us-west-2.amazonaws.com/landsat-pds/c1/L8/111/111/LC08_L1GT_111111_20181130_20181130_01_RT/LC08_L1GT_111111_20181130_20181130_01_RT_B4.TIF'}, 'B5': {'type': 'image/x.geotiff', 'eo:bands': [4], 'title': 'Band 5 (nir)', 'href': 'https://s3-us-west-2.amazonaws.com/landsat-pds/c1/L8/111/111/LC08_L1GT_111111_20181130_20181130_01_RT/LC08_L1GT_111111_20181130_20181130_01_RT_B5.TIF'}, 'B6': {'type': 'image/x.geotiff', 'eo:bands': [5], 'title': 'Band 6 (swir16)', 'href': 'https://s3-us-west-2.amazonaws.com/landsat-pds/c1/L8/111/111/LC08_L1GT_111111_20181130_20181130_01_RT/LC08_L1GT_111111_20181130_20181130_01_RT_B6.TIF'}, 'B7': {'type': 'image/x.geotiff', 'eo:bands': [6], 'title': 'Band 7 (swir22)', 'href': 'https://s3-us-west-2.amazonaws.com/landsat-pds/c1/L8/111/111/LC08_L1GT_111111_20181130_20181130_01_RT/LC08_L1GT_111111_20181130_20181130_01_RT_B7.TIF'}, 'B8': {'type': 'image/x.geotiff', 'eo:bands': [7], 'title': 'Band 8 (pan)', 'href': 'https://s3-us-west-2.amazonaws.com/landsat-pds/c1/L8/111/111/LC08_L1GT_111111_20181130_20181130_01_RT/LC08_L1GT_111111_20181130_20181130_01_RT_B8.TIF'}, 'B9': {'type': 'image/x.geotiff', 'eo:bands': [8], 'title': 'Band 9 (cirrus)', 'href': 'https://s3-us-west-2.amazonaws.com/landsat-pds/c1/L8/111/111/LC08_L1GT_111111_20181130_20181130_01_RT/LC08_L1GT_111111_20181130_20181130_01_RT_B9.TIF'}, 'B10': {'type': 'image/x.geotiff', 'eo:bands': [9], 'title': 'Band 10 (lwir)', 'href': 'https://s3-us-west-2.amazonaws.com/landsat-pds/c1/L8/111/111/LC08_L1GT_111111_20181130_20181130_01_RT/LC08_L1GT_111111_20181130_20181130_01_RT_B10.TIF'}, 'B11': {'type': 'image/x.geotiff', 'eo:bands': [10], 'title': 'Band 11 (lwir)', 'href': 'https://s3-us-west-2.amazonaws.com/landsat-pds/c1/L8/111/111/LC08_L1GT_111111_20181130_20181130_01_RT/LC08_L1GT_111111_20181130_20181130_01_RT_B11.TIF'}, 'ANG': {'title': 'Angle coefficients file', 'type': 'text/plain', 'href': 'https://s3-us-west-2.amazonaws.com/landsat-pds/c1/L8/111/111/LC08_L1GT_111111_20181130_20181130_01_RT/LC08_L1GT_111111_20181130_20181130_01_RT_ANG.txt'}, 'MTL': {'title': 'original metadata file', 'type': 'text/plain', 'href': 'https://s3-us-west-2.amazonaws.com/landsat-pds/c1/L8/111/111/LC08_L1GT_111111_20181130_20181130_01_RT/LC08_L1GT_111111_20181130_20181130_01_RT_MTL.txt'}, 'BQA': {'title': 'Band quality data', 'type': 'image/x.geotiff', 'href': 'https://s3-us-west-2.amazonaws.com/landsat-pds/c1/L8/111/111/LC08_L1GT_111111_20181130_20181130_01_RT/LC08_L1GT_111111_20181130_20181130_01_RT_BQA.TIF'}}\n"
     ]
    }
   ],
   "source": [
    "print(item.bbox)\n",
    "print(item.geometry)\n",
    "print(item.assets)"
   ]
  },
  {
   "cell_type": "markdown",
   "metadata": {},
   "source": [
    "In addition to these attributes, the sat-stac Item has some derived attributes. `datetime` is a Python datetime object parsed from the Item's `datetime` property, which is a string. `date` is just the date portion of the `datetime`"
   ]
  },
  {
   "cell_type": "code",
   "execution_count": 6,
   "metadata": {},
   "outputs": [
    {
     "name": "stdout",
     "output_type": "stream",
     "text": [
      "2018-11-30 02:10:47.290416+00:00\n",
      "2018-11-30\n"
     ]
    }
   ],
   "source": [
    "print(item.datetime)\n",
    "print(item.date)"
   ]
  },
  {
   "cell_type": "markdown",
   "metadata": {},
   "source": [
    "#### Properties\n",
    "\n",
    "The Item class also has properties and can be indexed by key just like the Collection class."
   ]
  },
  {
   "cell_type": "code",
   "execution_count": 7,
   "metadata": {},
   "outputs": [
    {
     "name": "stdout",
     "output_type": "stream",
     "text": [
      "collection: landsat-8-l1\n",
      "datetime: 2018-11-30T02:10:47.290416+00:00\n",
      "eo:sun_azimuth: 57.94044032\n",
      "eo:sun_elevation: 32.07614408\n",
      "eo:cloud_cover: 6\n",
      "eo:row: 111\n",
      "eo:column: 111\n",
      "landsat:product_id: LC08_L1GT_111111_20181130_20181130_01_RT\n",
      "landsat:scene_id: LC81111112018334LGN00\n",
      "landsat:processing_level: L1GT\n",
      "landsat:tier: RT\n"
     ]
    }
   ],
   "source": [
    "for key in item.properties:\n",
    "    print('%s: %s' % (key, item.properties[key]))"
   ]
  },
  {
   "cell_type": "markdown",
   "metadata": {},
   "source": [
    "When indexing an Item for a specific property if the property doesn't exist in the item, the item will return that property for the Collection it belongs to, if it exists. Behind the scenes, sat-stac follows the link in the Item to it's Collection and searches it for the property. Providers are free to put any properties of Items into it's Collection if it applies to all Items (if using the STAC `Commons` extension) so this ensures those properties can be directly accessed from the Item."
   ]
  },
  {
   "cell_type": "code",
   "execution_count": 8,
   "metadata": {},
   "outputs": [
    {
     "name": "stdout",
     "output_type": "stream",
     "text": [
      "landsat-8\n",
      "15\n"
     ]
    }
   ],
   "source": [
    "print(item['eo:platform'])\n",
    "print(item['eo:gsd'])"
   ]
  },
  {
   "cell_type": "markdown",
   "metadata": {},
   "source": [
    "To get the entire Collection an Item belongs to use the `collection` function."
   ]
  },
  {
   "cell_type": "code",
   "execution_count": 9,
   "metadata": {},
   "outputs": [
    {
     "name": "stdout",
     "output_type": "stream",
     "text": [
      "landsat-8-l1 https://landsat-stac.s3.amazonaws.com/landsat-8-l1/catalog.json\n"
     ]
    }
   ],
   "source": [
    "_col = item.collection()\n",
    "print(_col, _col.filename)"
   ]
  },
  {
   "cell_type": "markdown",
   "metadata": {},
   "source": [
    "#### Assets\n",
    "\n",
    "Finally here's the actual data a STAC Item references. As shown above the `assets` attribute returns the entire dictionary of assets. Below are the asset keys in this Item. Individual assets can be accessed directly using this key."
   ]
  },
  {
   "cell_type": "code",
   "execution_count": 10,
   "metadata": {},
   "outputs": [
    {
     "name": "stdout",
     "output_type": "stream",
     "text": [
      "dict_keys(['index', 'thumbnail', 'B1', 'B2', 'B3', 'B4', 'B5', 'B6', 'B7', 'B8', 'B9', 'B10', 'B11', 'ANG', 'MTL', 'BQA'])\n",
      "{'title': 'Thumbnail image', 'type': 'image/jpeg', 'href': 'https://s3-us-west-2.amazonaws.com/landsat-pds/c1/L8/111/111/LC08_L1GT_111111_20181130_20181130_01_RT/LC08_L1GT_111111_20181130_20181130_01_RT_thumb_large.jpg'}\n"
     ]
    }
   ],
   "source": [
    "print(item.assets.keys())\n",
    "print(item.asset('thumbnail'))"
   ]
  },
  {
   "cell_type": "markdown",
   "metadata": {},
   "source": [
    "The `asset` function is not just accessing the assets dictionary however. If the name of a common band is provided (see the STAC EO Extension: https://github.com/radiantearth/stac-spec/tree/master/extensions/eo) it will return an appropriate asset, if it exists."
   ]
  },
  {
   "cell_type": "code",
   "execution_count": 11,
   "metadata": {},
   "outputs": [
    {
     "name": "stdout",
     "output_type": "stream",
     "text": [
      "{'type': 'image/x.geotiff', 'eo:bands': [3], 'title': 'Band 4 (red)', 'href': 'https://s3-us-west-2.amazonaws.com/landsat-pds/c1/L8/111/111/LC08_L1GT_111111_20181130_20181130_01_RT/LC08_L1GT_111111_20181130_20181130_01_RT_B4.TIF'}\n"
     ]
    }
   ],
   "source": [
    "print(item.asset('red'))"
   ]
  },
  {
   "cell_type": "markdown",
   "metadata": {},
   "source": [
    "Behind the scenes sat-stac looks up the provided name in using the `eo:bands` properties. If there is an asset containing a single band of that common name, it returns it. In other words, this is useful if the Item has assets separated by bands."
   ]
  },
  {
   "cell_type": "markdown",
   "metadata": {},
   "source": [
    "#### Downloading Assets\n",
    "\n",
    "In some applications the assets may be accesed remotely in which case the `href` provides the URL. However, some users may wish to download a copy of one or more assets. The `download` function can be used here. If the file already exists locally it will not be downloaded, unless the overwrite keyword is provided."
   ]
  },
  {
   "cell_type": "code",
   "execution_count": 12,
   "metadata": {},
   "outputs": [
    {
     "name": "stdout",
     "output_type": "stream",
     "text": [
      "LC81111112018334LGN00_MTL.txt\n",
      "LC81111112018334LGN00_MTL.txt\n"
     ]
    }
   ],
   "source": [
    "filename = item.download('MTL')\n",
    "print(filename)\n",
    "filename = item.download('MTL', overwrite=True)\n",
    "print(filename)"
   ]
  },
  {
   "cell_type": "markdown",
   "metadata": {},
   "source": [
    "By default the files are saved in the current directory. When downloading a lot of files this is hardly desired, so sat-stac provides a way to customize the path and filename assets are saved to. By default the filename is `<id>-<key>.<extension>`, as shown above but custom patterns can be provided. Tutorial-1 discussed Views, which use custom path and filename patterns when creating Catalogs, and this works much the same way."
   ]
  },
  {
   "cell_type": "code",
   "execution_count": 13,
   "metadata": {},
   "outputs": [
    {
     "name": "stdout",
     "output_type": "stream",
     "text": [
      "mymetadata/landsat-8-l1/2018-11-30/LC81111112018334LGN00_MTL.txt\n"
     ]
    }
   ],
   "source": [
    "filename = item.download('MTL', path='mymetadata/${collection}/${date}')\n",
    "print(filename)"
   ]
  },
  {
   "cell_type": "code",
   "execution_count": 14,
   "metadata": {},
   "outputs": [
    {
     "name": "stdout",
     "output_type": "stream",
     "text": [
      "mymetadata/landsat-8-l1/2018-11-30_LC81111112018334LGN00_MTL.txt\n"
     ]
    }
   ],
   "source": [
    "filename = item.download('MTL', path='mymetadata/${collection}', filename='${date}_${id}')\n",
    "print(filename)"
   ]
  },
  {
   "cell_type": "markdown",
   "metadata": {},
   "source": [
    "What names can be used in the templates? Any property in the Item or Collection can be referenced. In addition:\n",
    "\n",
    "- **id**: The Item id, as shown above\n",
    "- **date**: Just the date portion of the `datetime` property, as an ISO formatted string\n",
    "- **year**: Just the year of the `datetime`\n",
    "- **month**: Just the month of the `datetime`\n",
    "- **day**: Just the day of the `datetime`"
   ]
  },
  {
   "cell_type": "markdown",
   "metadata": {},
   "source": [
    "### Items\n",
    "\n",
    "The Items class is not a STAC entity. It stores a set of Items, all of the Collections those Items belong to, and optionally a dictionary of a search query that produced the Items. It is primarily used for the storing and loading the results of a search, such as what is produced by sat-search (https://github.com/sat-utils/sat-search).\n",
    "\n",
    "An Items class can be created directly.\n",
    "\n",
    "```\n",
    "from satstac import Items\n",
    "\n",
    "items = Items(item_list, collection_list, search=search_args)\n",
    "```\n",
    "\n",
    "where\n",
    "\n",
    "- item_list: a list of Item objects\n",
    "- collection_list: a list of Collection objects that the Item objects belong to\n",
    "- search_args (optional): a dictionary of the search queries used to produce the Item and Collection objects.\n",
    "\n",
    "Use the `load` and `save` functions to store and load from from files."
   ]
  },
  {
   "cell_type": "code",
   "execution_count": 15,
   "metadata": {},
   "outputs": [
    {
     "name": "stdout",
     "output_type": "stream",
     "text": [
      "2\n",
      "LC81920292019008LGN00 LC81920282019008LGN00\n"
     ]
    }
   ],
   "source": [
    "from satstac import Items\n",
    "\n",
    "items = Items.load('test/items.json')\n",
    "print(len(items))\n",
    "print(items[0], items[1])"
   ]
  },
  {
   "cell_type": "markdown",
   "metadata": {},
   "source": [
    "#### Class Functions\n",
    "\n",
    "The Items class has several functions for accessing info from the member Item objects, with a few functions for accessing information about the search, if there is one.\n",
    "\n",
    "- dates(): get the set of dates for all Items (in this case there are 2 Landsat scenes from the same date)\n",
    "- properties(<key>): get the set of properties for all Items\n",
    "\n",
    "There are two additional functions, bbox() and center(). If the Items object contains an intersect search parameter, they return the bounding box and the center lat/lon coordinates, otherwise they return None.\n",
    "\n",
    "- bbox(): bounding box of the search\n",
    "- center(): center coordinates of search"
   ]
  },
  {
   "cell_type": "code",
   "execution_count": 16,
   "metadata": {},
   "outputs": [
    {
     "name": "stdout",
     "output_type": "stream",
     "text": [
      "[datetime.date(2019, 1, 8)]\n",
      "['landsat-8']\n",
      "[99, 100]\n"
     ]
    }
   ],
   "source": [
    "print(items.dates())\n",
    "print(items.properties('eo:platform'))\n",
    "print(items.properties('eo:cloud_cover'))"
   ]
  },
  {
   "cell_type": "code",
   "execution_count": 17,
   "metadata": {},
   "outputs": [
    {
     "name": "stdout",
     "output_type": "stream",
     "text": [
      "[11.984710693359375, 44.815941348210835, 12.752380371093748, 45.67740123855739]\n",
      "[45.24667129338411, 12.368545532226562]\n"
     ]
    }
   ],
   "source": [
    "print(items.bbox())\n",
    "print(items.center())"
   ]
  },
  {
   "cell_type": "markdown",
   "metadata": {},
   "source": [
    "#### Printing Items info\n",
    "\n",
    "There are two functions for summarizing information about the Items. \n",
    "\n",
    "- summary(params=[]): Generates column text of properties for each Item. If params are provided it will print those properties. Any Item or Collection property, along with `date` and `id` can be used, which are the defaults.\n",
    "- calendar(): Generates a Linux terminal style calendar with dates colored showing which platforms are available for each date. Suitable only for printing to a terminal."
   ]
  },
  {
   "cell_type": "code",
   "execution_count": 18,
   "metadata": {},
   "outputs": [
    {
     "name": "stdout",
     "output_type": "stream",
     "text": [
      "Items (2):\n",
      "date                      id                        \n",
      "2019-01-08                LC81920292019008LGN00     \n",
      "2019-01-08                LC81920282019008LGN00     \n",
      "\n",
      "Items (2):\n",
      "date                      id                        eo:cloud_cover            \n",
      "2019-01-08                LC81920292019008LGN00     100                       \n",
      "2019-01-08                LC81920282019008LGN00     99                        \n",
      "\n"
     ]
    }
   ],
   "source": [
    "print(items.summary())\n",
    "print(items.summary(['date', 'id', 'eo:cloud_cover']))"
   ]
  },
  {
   "cell_type": "code",
   "execution_count": 19,
   "metadata": {},
   "outputs": [
    {
     "name": "stdout",
     "output_type": "stream",
     "text": [
      "                              2019                              \n",
      "\n",
      "      January               February               March        \n",
      "Mo Tu We Th Fr Sa Su  Mo Tu We Th Fr Sa Su  Mo Tu We Th Fr Sa Su\n",
      "    1  2  3  4  5  6               1  2  3               1  2  3  \n",
      " 7 \u001b[41m 8\u001b[0m  9 10 11 12 13   4  5  6  7  8  9 10   4  5  6  7  8  9 10  \n",
      "14 15 16 17 18 19 20  11 12 13 14 15 16 17  11 12 13 14 15 16 17  \n",
      "21 22 23 24 25 26 27  18 19 20 21 22 23 24  18 19 20 21 22 23 24  \n",
      "28 29 30 31           25 26 27 28           25 26 27 28 29 30 31  \n",
      "\n",
      "\u001b[41mlandsat-8 (1)\u001b[0m\n",
      "1 total dates\n"
     ]
    }
   ],
   "source": [
    "print(items.calendar())"
   ]
  },
  {
   "cell_type": "markdown",
   "metadata": {},
   "source": [
    "#### Batch downloading of assets\n",
    "\n",
    "The Items object has a download() function which can be used to download assets of a given key from all Items."
   ]
  },
  {
   "cell_type": "code",
   "execution_count": 20,
   "metadata": {},
   "outputs": [
    {
     "name": "stdout",
     "output_type": "stream",
     "text": [
      "['LC81920292019008LGN00_MTL.txt', 'LC81920282019008LGN00_MTL.txt']\n"
     ]
    }
   ],
   "source": [
    "filenames = items.download('MTL')\n",
    "print(filenames)"
   ]
  },
  {
   "cell_type": "code",
   "execution_count": 21,
   "metadata": {},
   "outputs": [
    {
     "name": "stdout",
     "output_type": "stream",
     "text": [
      "['downloads/2019-01-08/LC81920292019008LGN00_MTL.txt', 'downloads/2019-01-08/LC81920282019008LGN00_MTL.txt']\n"
     ]
    }
   ],
   "source": [
    "filenames = items.download('MTL', path='downloads/${date}')\n",
    "print(filenames)"
   ]
  }
 ],
 "metadata": {
  "kernelspec": {
   "display_name": "Python3 sat-utils",
   "language": "python",
   "name": "testenv"
  },
  "language_info": {
   "codemirror_mode": {
    "name": "ipython",
    "version": 3
   },
   "file_extension": ".py",
   "mimetype": "text/x-python",
   "name": "python",
   "nbconvert_exporter": "python",
   "pygments_lexer": "ipython3",
   "version": "3.6.1"
  }
 },
 "nbformat": 4,
 "nbformat_minor": 2
}
